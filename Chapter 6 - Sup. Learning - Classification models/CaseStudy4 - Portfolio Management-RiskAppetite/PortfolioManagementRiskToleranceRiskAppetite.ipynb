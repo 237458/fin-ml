{
 "cells": [
  {
   "cell_type": "markdown",
   "metadata": {
    "_cell_guid": "83708667-4fdc-1563-7b3a-06b6575d2865"
   },
   "source": [
    "\n",
    "\n",
    "# Portfolio Management-Market Volatility and Risk Appetite\n",
    "\n",
    "The goal of this case study is to build a machine learning\n",
    "model to predict whether a person is likely to change the risk appetite with the\n",
    "change in the market situation. The purpose is also to identify the factors the cause people to change their risk appetite. \n"
   ]
  },
  {
   "cell_type": "markdown",
   "metadata": {},
   "source": [
    "## Content"
   ]
  },
  {
   "cell_type": "markdown",
   "metadata": {},
   "source": [
    "* [1. Problem Definition](#0)\n",
    "* [2. Getting Started - Load Libraries and Dataset](#1)\n",
    "    * [2.1. Load Libraries](#1.1)    \n",
    "    * [2.2. Load Dataset](#1.2)\n",
    "* [3. Data Preparation and Feature Selection](#2)\n",
    "    * [3.1. Preparing the predicted variable](#2.1)    \n",
    "    * [3.2. Feature Selection-Limit the Feature Space](#2.2)\n",
    "* [4.Evaluate Algorithms and Models](#4)        \n",
    "    * [4.1. Train/Test Split](#4.1)\n",
    "    * [4.2. Test Options and Evaluation Metrics](#4.2)\n",
    "    * [4.3. Compare Models and Algorithms](#4.3)\n",
    "* [5. Model Tuning and Grid Search](#5)  \n",
    "* [6. Finalize the Model](#6)  \n",
    "    * [6.1. Results on test dataset](#6.1)\n",
    "* [7 Feature Analysis](#7)\n",
    "    * [7.1. Feature Importance](#7.1)\n",
    "    * [7.2. Feature Intuition](#7.2)\n"
   ]
  },
  {
   "cell_type": "markdown",
   "metadata": {},
   "source": [
    "<a id='0'></a>\n",
    "# 1. Problem Definition"
   ]
  },
  {
   "cell_type": "markdown",
   "metadata": {},
   "source": [
    "This case study uses a classification-based model to predict whether a person is likely\n",
    "to change the risk aversion with the change in the market situation not.\n",
    "\n",
    "\n",
    "For this case study the data used is from survey of Consumer Finances which is conducted by the Federal Reserve\n",
    "Board. The data source is : \n",
    "https://www.federalreserve.gov/econres/scf_2009p.htm\n"
   ]
  },
  {
   "cell_type": "markdown",
   "metadata": {},
   "source": [
    "<a id='1'></a>\n",
    "# 2. Getting Started- Loading the data and python packages"
   ]
  },
  {
   "cell_type": "markdown",
   "metadata": {},
   "source": [
    "<a id='1.1'></a>\n",
    "## 2.1. Loading the python packages"
   ]
  },
  {
   "cell_type": "code",
   "execution_count": 3,
   "metadata": {
    "_cell_guid": "5d8fee34-f454-2642-8b06-ed719f0317e1"
   },
   "outputs": [
    {
     "name": "stderr",
     "output_type": "stream",
     "text": [
      "Using TensorFlow backend.\n"
     ]
    }
   ],
   "source": [
    "# Load libraries\n",
    "import numpy as np\n",
    "import pandas as pd\n",
    "import matplotlib.pyplot as plt\n",
    "from pandas import read_csv, set_option\n",
    "from pandas.plotting import scatter_matrix\n",
    "import seaborn as sns\n",
    "from sklearn.preprocessing import StandardScaler\n",
    "from sklearn.model_selection import train_test_split, KFold, cross_val_score, GridSearchCV\n",
    "from sklearn.linear_model import LogisticRegression\n",
    "from sklearn.tree import DecisionTreeClassifier\n",
    "from sklearn.neighbors import KNeighborsClassifier\n",
    "from sklearn.discriminant_analysis import LinearDiscriminantAnalysis\n",
    "from sklearn.naive_bayes import GaussianNB\n",
    "from sklearn.svm import SVC\n",
    "from sklearn.neural_network import MLPClassifier\n",
    "from sklearn.pipeline import Pipeline\n",
    "from sklearn.ensemble import AdaBoostClassifier, GradientBoostingClassifier, RandomForestClassifier, ExtraTreesClassifier\n",
    "from sklearn.metrics import classification_report, confusion_matrix, accuracy_score\n",
    "\n",
    "#Libraries for Deep Learning Models\n",
    "from keras.models import Sequential\n",
    "from keras.layers import Dense\n",
    "from keras.wrappers.scikit_learn import KerasClassifier\n",
    "from keras.optimizers import SGD"
   ]
  },
  {
   "cell_type": "markdown",
   "metadata": {},
   "source": [
    "<a id='1.2'></a>\n",
    "## 2.2. Loading the Data"
   ]
  },
  {
   "cell_type": "code",
   "execution_count": 4,
   "metadata": {
    "_cell_guid": "787e35f7-bf9e-0969-8d13-a54fa87f3519",
    "scrolled": true
   },
   "outputs": [],
   "source": [
    "# load dataset\n",
    "dataset = pd.read_excel('SCFP2009panel.xlsx')"
   ]
  },
  {
   "cell_type": "code",
   "execution_count": 7,
   "metadata": {},
   "outputs": [],
   "source": [
    "#Diable the warnings\n",
    "import warnings\n",
    "warnings.filterwarnings('ignore')"
   ]
  },
  {
   "cell_type": "code",
   "execution_count": 158,
   "metadata": {},
   "outputs": [
    {
     "data": {
      "text/plain": [
       "pandas.core.frame.DataFrame"
      ]
     },
     "execution_count": 158,
     "metadata": {},
     "output_type": "execute_result"
    }
   ],
   "source": [
    "type(dataset)"
   ]
  },
  {
   "cell_type": "code",
   "execution_count": 159,
   "metadata": {},
   "outputs": [
    {
     "data": {
      "text/plain": [
       "(19285, 35)"
      ]
     },
     "execution_count": 159,
     "metadata": {},
     "output_type": "execute_result"
    }
   ],
   "source": [
    "dataset.shape"
   ]
  },
  {
   "cell_type": "markdown",
   "metadata": {},
   "source": [
    "<a id='2'></a>\n",
    "## 3. Data Preparation and Feature Selection"
   ]
  },
  {
   "cell_type": "markdown",
   "metadata": {},
   "source": [
    "<a id='2.1'></a>\n",
    "## 3.1. Preparing the predicted variable"
   ]
  },
  {
   "attachments": {},
   "cell_type": "markdown",
   "metadata": {},
   "source": [
    "The dataset from \"Survey of Consumer Finances\" contains the Household's demographics, net worth, financial and non-financial assets for the same demographics in 2007 (pre-crisis) and 2009(post-crisis). \n",
    "\n",
    "The data can be used to get the implied Risk Aversion for the household from the Household's demographics, net worth, financial and non-financial assets as per _Schooley and Worden (1996) (Risk Aversion Measures: Comparing Attitudes and Asset Allocation. Financial Services Review. 5 (2): 87-99) and is shown below:_ \n",
    "\n",
    "\\begin{equation}\n",
    "RRA = \\frac{RiskFreeAssets+RiskyAssets}{Risky Assets}*\\frac{MarketExcessReturn}{MarketVariance}*\\frac{1}{1-h}\n",
    "\\end{equation}\n",
    "\n",
    "\n",
    "* **Risky assets** is investments in mutual funds, stocks, bonds, commodities, and\n",
    "real estate, and an estimate of human capital. \n",
    "* **Risk Free Assets**: checking and savings balances,certificates of deposit, and other cash balances and equivalents.\n",
    "* **Ratio of MarketExcessReturn to Variance**: This is similar to sharp ratio is constant among all the market participants.\n",
    "* **h**: It is the ratio of human capital to total wealth.To compute human capital people are assumed to work until they are 65, their incomes increase by 3% annually and the average interest rate is 5% based on 10 year treasury yields during 2007. Since this is a long term measure. We define wealth as the sum of risky and risk-free assets\n",
    "\n"
   ]
  },
  {
   "cell_type": "code",
   "execution_count": 8,
   "metadata": {},
   "outputs": [],
   "source": [
    "dataset['UntilRetire07'] = dataset['AGE07'].apply(lambda x: max((70 - x),0))\n",
    "dataset['Multiplier07'] = dataset['UntilRetire07'].apply(lambda x: ((pow(1.07,x) - 1)/(0.05)))\n",
    "\n",
    "dataset['RiskFree07']= dataset['LIQ07'] + dataset['CDS07'] + dataset['SAVBND07'] + dataset['CASHLI07']\n",
    "dataset['HumanCap07'] = dataset['Multiplier07']*dataset['INCOME07']\n",
    "dataset['Risky07'] = dataset['NMMF07'] + dataset['STOCKS07'] + dataset['BOND07'] + dataset['HumanCap07']\n",
    "dataset['Alpha07'] = dataset['Risky07']/(dataset['Risky07']+dataset['RiskFree07'])\n",
    "dataset['h07'] = dataset['HumanCap07']/(dataset['HOUSES07'] + dataset['Risky07']+dataset['RiskFree07'])\n",
    "dataset['CValue07'] = 0.45/((1-dataset['h07'])*(dataset['Alpha07']))\n",
    "\n",
    "dataset['UntilRetire09'] = dataset['AGE07'].apply(lambda x: max((70 - x),0))\n",
    "dataset['Multiplier09'] = dataset['UntilRetire07'].apply(lambda x: ((pow(1.07,x) - 1)/(0.05)))\n",
    "\n",
    "dataset['RiskFree09']= dataset['LIQ09'] + dataset['CDS09'] + dataset['SAVBND09'] + dataset['CASHLI09']\n",
    "dataset['HumanCap09'] = dataset['Multiplier09']*dataset['INCOME09']\n",
    "dataset['Risky09'] = dataset['NMMF09'] + dataset['STOCKS09'] + dataset['BOND09'] + dataset['HumanCap09']\n",
    "dataset['Alpha09'] = dataset['Risky09']/(dataset['Risky09']+dataset['RiskFree09'])\n",
    "dataset['h09'] = dataset['HumanCap09']/(dataset['HOUSES09'] + dataset['Risky09']+dataset['RiskFree09'])\n",
    "dataset['CValue09'] = 0.45/((1-dataset['h09'])*(dataset['Alpha09']))\n",
    "dataset['PercentageChange'] = dataset['CValue09']/dataset['CValue07']-1"
   ]
  },
  {
   "cell_type": "markdown",
   "metadata": {},
   "source": [
    "The predicted variable is the degree of percentage change in Risk Aversion between 2007 and 2009, and is defined as follows:\n",
    "* Change > 75%  = 1\n",
    "* Change <-.75% = -1\n",
    "* -75% < Change > 75% = 0"
   ]
  },
  {
   "cell_type": "code",
   "execution_count": 9,
   "metadata": {},
   "outputs": [],
   "source": [
    "dataset['ChangeRiskAversion'] = np.where(dataset['PercentageChange'] > .75, 1.0, (np.where(dataset['PercentageChange'] < -.75,-1,0)))"
   ]
  },
  {
   "cell_type": "code",
   "execution_count": 10,
   "metadata": {},
   "outputs": [
    {
     "data": {
      "image/png": "[encoded data removed]",
      "text/plain": [
       "<Figure size 432x288 with 1 Axes>"
      ]
     },
     "metadata": {
      "needs_background": "light"
     },
     "output_type": "display_data"
    }
   ],
   "source": [
    "fig = plt.figure()\n",
    "plot = dataset.groupby(['ChangeRiskAversion']).size().plot(kind='barh', color='red')\n",
    "plt.show()"
   ]
  },
  {
   "cell_type": "code",
   "execution_count": 11,
   "metadata": {},
   "outputs": [
    {
     "data": {
      "text/plain": [
       " 0.0    0.702411\n",
       " 1.0    0.187088\n",
       "-1.0    0.110500\n",
       "Name: ChangeRiskAversion, dtype: float64"
      ]
     },
     "execution_count": 11,
     "metadata": {},
     "output_type": "execute_result"
    }
   ],
   "source": [
    "dataset['ChangeRiskAversion'].value_counts(normalize=True, dropna=False)"
   ]
  },
  {
   "cell_type": "markdown",
   "metadata": {},
   "source": [
    "About 70% of the People didn't change the risk aversion, however, around 18% increased their risk aversion and 11% decreased the risk aversion by more than 75%. "
   ]
  },
  {
   "cell_type": "markdown",
   "metadata": {},
   "source": [
    "<a id='2.2'></a>\n",
    "## 3.2. Feature Selection-Limit the Feature Space "
   ]
  },
  {
   "cell_type": "code",
   "execution_count": 12,
   "metadata": {},
   "outputs": [
    {
     "data": {
      "text/plain": [
       "(19285, 533)"
      ]
     },
     "execution_count": 12,
     "metadata": {},
     "output_type": "execute_result"
    }
   ],
   "source": [
    "dataset.shape"
   ]
  },
  {
   "cell_type": "markdown",
   "metadata": {},
   "source": [
    "<a id='2.2.2'></a>\n",
    "### 3.2.2.  Features elimination"
   ]
  },
  {
   "attachments": {},
   "cell_type": "markdown",
   "metadata": {},
   "source": [
    "In order to filter the features further we do the following:\n",
    "1. Check the description in the Data Dictionary (https://www.federalreserve.gov/econres/files/codebk2009p.txtand only keep the features that are intuitive based on subjective judgement and is based on behavioral, financial and demographic attributes.\n",
    "\n",
    "2. Keep only the intuitive factors as of 2007 only and remove all the intermediate features and features related to 2009, as the variables of 2007 are the only ones required for predicting a change in the risk tolerance.\n"
   ]
  },
  {
   "cell_type": "code",
   "execution_count": 14,
   "metadata": {},
   "outputs": [
    {
     "data": {
      "text/plain": [
       "36"
      ]
     },
     "execution_count": 14,
     "metadata": {},
     "output_type": "execute_result"
    }
   ],
   "source": [
    "keep_list = ['ChangeRiskAversion','AGE07', 'AGECL07', 'EDCL07', 'MARRIED07', 'KIDS07', 'LIFECL07', 'OCCAT107', 'INCOME07', 'NORMINC07', 'RISK07', 'WSAVED07', 'SAVED07', 'SPENDMOR07', 'LIQ07', 'CDS07', 'NMMF07', 'STOCKS07', 'BOND07', 'RETQLIQ07', 'SAVBND07','CASHLI07', 'OTHMA07', 'OTHFIN07', 'FIN07', 'ORESRE07', 'NNRESRE07', 'OTHNFIN07', 'NFIN07', 'NHNFIN07', 'HOUSES07', 'ASSET07', 'HOMEEQ07', 'DEBT07', 'NETWORTH07', 'RISK07']\n",
    "len(keep_list)"
   ]
  },
  {
   "cell_type": "code",
   "execution_count": 15,
   "metadata": {},
   "outputs": [
    {
     "data": {
      "text/plain": [
       "(19285, 35)"
      ]
     },
     "execution_count": 15,
     "metadata": {},
     "output_type": "execute_result"
    }
   ],
   "source": [
    "drop_list = [col for col in dataset.columns if col not in keep_list]\n",
    "\n",
    "dataset.drop(labels=drop_list, axis=1, inplace=True)\n",
    "\n",
    "dataset.shape"
   ]
  },
  {
   "cell_type": "code",
   "execution_count": 16,
   "metadata": {},
   "outputs": [
    {
     "name": "stdout",
     "output_type": "stream",
     "text": [
      "Null Values = False\n"
     ]
    }
   ],
   "source": [
    "#Checking for any null values and removing the null values'''\n",
    "print('Null Values =',dataset.isnull().values.any())"
   ]
  },
  {
   "cell_type": "code",
   "execution_count": 17,
   "metadata": {},
   "outputs": [
    {
     "data": {
      "text/plain": [
       "(19285, 35)"
      ]
     },
     "execution_count": 17,
     "metadata": {},
     "output_type": "execute_result"
    }
   ],
   "source": [
    "# Drop the rows containing NA\n",
    "dataset=dataset.dropna(axis=0)\n",
    "dataset=dataset.replace([np.inf, -np.inf], np.nan).dropna(axis=0)\n",
    "dataset.shape"
   ]
  },
  {
   "cell_type": "markdown",
   "metadata": {},
   "source": [
    "<a id='4'></a>\n",
    "# 4. Evaluate Algorithms and Models"
   ]
  },
  {
   "cell_type": "markdown",
   "metadata": {},
   "source": [
    "<a id='4.1'></a>\n",
    "## 4.1. Train Test Split"
   ]
  },
  {
   "cell_type": "code",
   "execution_count": 40,
   "metadata": {},
   "outputs": [],
   "source": [
    "# split out validation dataset for the end\n",
    "Y= dataset[\"ChangeRiskAversion\"]\n",
    "X = dataset.loc[:, dataset.columns != 'ChangeRiskAversion']\n",
    "scaler = StandardScaler().fit(X)\n",
    "rescaledX = scaler.transform(X)\n",
    "validation_size = 0.2\n",
    "seed = 7\n",
    "X_train, X_validation, Y_train, Y_validation = train_test_split(rescaledX, Y, test_size=validation_size, random_state=seed)"
   ]
  },
  {
   "cell_type": "code",
   "execution_count": 20,
   "metadata": {},
   "outputs": [
    {
     "data": {
      "text/plain": [
       " 0.0    13546\n",
       " 1.0     3608\n",
       "-1.0     2131\n",
       "Name: ChangeRiskAversion, dtype: int64"
      ]
     },
     "execution_count": 20,
     "metadata": {},
     "output_type": "execute_result"
    }
   ],
   "source": [
    "dataset['ChangeRiskAversion'].value_counts()"
   ]
  },
  {
   "cell_type": "markdown",
   "metadata": {},
   "source": [
    "<a id='4.2'></a>\n",
    "## 4.2. Test Options and Evaluation Metrics\n"
   ]
  },
  {
   "cell_type": "code",
   "execution_count": 160,
   "metadata": {
    "_cell_guid": "5702bc31-06bf-8b6a-42de-366a6b3311a8"
   },
   "outputs": [],
   "source": [
    "# test options for classification\n",
    "num_folds = 10\n",
    "seed = 7\n",
    "scoring = 'accuracy'\n",
    "#scoring ='precision'\n",
    "#scoring ='recall'\n",
    "#scoring = 'roc_auc'"
   ]
  },
  {
   "cell_type": "markdown",
   "metadata": {},
   "source": [
    "<a id='4.3'></a>\n",
    "## 4.3. Compare Models and Algorithms"
   ]
  },
  {
   "cell_type": "markdown",
   "metadata": {},
   "source": [
    "### Classification Models"
   ]
  },
  {
   "cell_type": "code",
   "execution_count": 285,
   "metadata": {
    "_cell_guid": "772802f7-f4e4-84ee-6377-6464ab2e5da4"
   },
   "outputs": [],
   "source": [
    "# spot check the algorithms\n",
    "models = []\n",
    "models.append(('LR', LogisticRegression()))\n",
    "models.append(('LDA', LinearDiscriminantAnalysis()))\n",
    "models.append(('KNN', KNeighborsClassifier()))\n",
    "models.append(('CART', DecisionTreeClassifier()))\n",
    "models.append(('NB', GaussianNB()))\n",
    "#Neural Network\n",
    "models.append(('NN', MLPClassifier()))\n",
    "#Ensable Models \n",
    "# Boosting methods\n",
    "models.append(('AB', AdaBoostClassifier()))\n",
    "models.append(('GBM', GradientBoostingClassifier()))\n",
    "# Bagging methods\n",
    "models.append(('RF', RandomForestClassifier(n_jobs=-1)))"
   ]
  },
  {
   "cell_type": "markdown",
   "metadata": {},
   "source": [
    "### K-folds cross validation"
   ]
  },
  {
   "cell_type": "code",
   "execution_count": 286,
   "metadata": {
    "_cell_guid": "a784ab4a-eb59-98cc-76cf-b55f382d057a"
   },
   "outputs": [
    {
     "name": "stdout",
     "output_type": "stream",
     "text": [
      "LR: 0.703980 (0.007770)\n",
      "LDA: 0.703591 (0.007521)\n",
      "KNN: 0.846317 (0.011164)\n",
      "CART: 0.929543 (0.006309)\n",
      "NB: 0.237749 (0.009657)\n",
      "NN: 0.783250 (0.008020)\n",
      "AB: 0.716036 (0.010712)\n",
      "GBM: 0.770677 (0.010944)\n",
      "RF: 0.949766 (0.005895)\n"
     ]
    }
   ],
   "source": [
    "results = []\n",
    "names = []\n",
    "for name, model in models:\n",
    "    kfold = KFold(n_splits=num_folds, random_state=seed)\n",
    "    cv_results = cross_val_score(model, X_train, Y_train, cv=kfold, scoring=scoring)\n",
    "    results.append(cv_results)\n",
    "    names.append(name)\n",
    "    msg = \"%s: %f (%f)\" % (name, cv_results.mean(), cv_results.std())\n",
    "    print(msg)"
   ]
  },
  {
   "cell_type": "code",
   "execution_count": 50,
   "metadata": {},
   "outputs": [],
   "source": [
    "### Algorithm comparison"
   ]
  },
  {
   "cell_type": "code",
   "execution_count": 287,
   "metadata": {},
   "outputs": [
    {
     "data": {
      "image/png": "[encoded data removed]",
      "text/plain": [
       "<Figure size 1080x576 with 1 Axes>"
      ]
     },
     "metadata": {
      "needs_background": "light"
     },
     "output_type": "display_data"
    }
   ],
   "source": [
    "# compare algorithms\n",
    "fig = pyplot.figure()\n",
    "fig.suptitle('Algorithm Comparison')\n",
    "ax = fig.add_subplot(111)\n",
    "pyplot.boxplot(results)\n",
    "ax.set_xticklabels(names)\n",
    "fig.set_size_inches(15,8)\n",
    "pyplot.show()"
   ]
  },
  {
   "cell_type": "markdown",
   "metadata": {},
   "source": [
    "<a id='5'></a>\n",
    "# 5. Model Tuning and Grid Search"
   ]
  },
  {
   "cell_type": "markdown",
   "metadata": {
    "_cell_guid": "848ca488-b0fd-8e93-2e68-23d32c71d89c"
   },
   "source": [
    "Given that the Random Forest is the best model, Grid Search is performed on Random Forest."
   ]
  },
  {
   "cell_type": "code",
   "execution_count": 288,
   "metadata": {},
   "outputs": [
    {
     "name": "stdout",
     "output_type": "stream",
     "text": [
      "Best: 0.958971 using {'criterion': 'gini', 'max_depth': 100, 'n_estimators': 80}\n",
      "#7 0.713508 (0.008355) with: {'criterion': 'gini', 'max_depth': 5, 'n_estimators': 20}\n",
      "#10 0.709684 (0.007648) with: {'criterion': 'gini', 'max_depth': 5, 'n_estimators': 80}\n",
      "#9 0.710202 (0.007921) with: {'criterion': 'gini', 'max_depth': 5, 'n_estimators': 200}\n",
      "#5 0.955795 (0.003819) with: {'criterion': 'gini', 'max_depth': 100, 'n_estimators': 20}\n",
      "#1 0.958971 (0.004656) with: {'criterion': 'gini', 'max_depth': 100, 'n_estimators': 80}\n",
      "#2 0.958582 (0.005108) with: {'criterion': 'gini', 'max_depth': 100, 'n_estimators': 200}\n",
      "#8 0.711174 (0.009196) with: {'criterion': 'entropy', 'max_depth': 5, 'n_estimators': 20}\n",
      "#11 0.708582 (0.007772) with: {'criterion': 'entropy', 'max_depth': 5, 'n_estimators': 80}\n",
      "#12 0.706961 (0.008451) with: {'criterion': 'entropy', 'max_depth': 5, 'n_estimators': 200}\n",
      "#6 0.954952 (0.005331) with: {'criterion': 'entropy', 'max_depth': 100, 'n_estimators': 20}\n",
      "#4 0.958128 (0.004774) with: {'criterion': 'entropy', 'max_depth': 100, 'n_estimators': 80}\n",
      "#3 0.958517 (0.004835) with: {'criterion': 'entropy', 'max_depth': 100, 'n_estimators': 200}\n"
     ]
    }
   ],
   "source": [
    "# Grid Search: Random Forest Classifier\n",
    "'''\n",
    "n_estimators : int (default=100)\n",
    "    The number of boosting stages to perform. \n",
    "    Gradient boosting is fairly robust to over-fitting so a large number usually results in better performance.\n",
    "max_depth : integer, optional (default=3)\n",
    "    maximum depth of the individual regression estimators. \n",
    "    The maximum depth limits the number of nodes in the tree. \n",
    "    Tune this parameter for best performance; the best value depends on the interaction of the input variables    \n",
    "criterion : string, optional (default=”gini”)\n",
    "    The function to measure the quality of a split. \n",
    "    Supported criteria are “gini” for the Gini impurity and “entropy” for the information gain. \n",
    "    \n",
    "'''   \n",
    "n_estimators = [20,80,200]\n",
    "max_depth= [5,100]\n",
    "criterion = [\"gini\",\"entropy\"]\n",
    "param_grid = dict(n_estimators=n_estimators, max_depth=max_depth, criterion = criterion )\n",
    "model = RandomForestClassifier(n_jobs=-1)\n",
    "kfold = KFold(n_splits=num_folds, random_state=seed)\n",
    "grid = GridSearchCV(estimator=model, param_grid=param_grid, scoring=scoring, cv=kfold)\n",
    "grid_result = grid.fit(X_train, Y_train)\n",
    "\n",
    "#Print Results\n",
    "print(\"Best: %f using %s\" % (grid_result.best_score_, grid_result.best_params_))\n",
    "means = grid_result.cv_results_['mean_test_score']\n",
    "stds = grid_result.cv_results_['std_test_score']\n",
    "params = grid_result.cv_results_['params']\n",
    "ranks = grid_result.cv_results_['rank_test_score']\n",
    "for mean, stdev, param, rank in zip(means, stds, params, ranks):\n",
    "    print(\"#%d %f (%f) with: %r\" % (rank, mean, stdev, param))"
   ]
  },
  {
   "cell_type": "markdown",
   "metadata": {},
   "source": [
    "<a id='6'></a>\n",
    "# 6. Finalise the Model"
   ]
  },
  {
   "cell_type": "markdown",
   "metadata": {},
   "source": [
    "Let us test the model on the test dataset and look at feature importance in this step"
   ]
  },
  {
   "cell_type": "markdown",
   "metadata": {},
   "source": [
    "<a id='6.1'></a>\n",
    "## 6.1. Results on the Test Dataset"
   ]
  },
  {
   "cell_type": "code",
   "execution_count": 21,
   "metadata": {},
   "outputs": [
    {
     "data": {
      "text/plain": [
       "RandomForestClassifier(bootstrap=True, class_weight=None, criterion='gini',\n",
       "                       max_depth=100, max_features='auto', max_leaf_nodes=None,\n",
       "                       min_impurity_decrease=0.0, min_impurity_split=None,\n",
       "                       min_samples_leaf=1, min_samples_split=2,\n",
       "                       min_weight_fraction_leaf=0.0, n_estimators=80, n_jobs=-1,\n",
       "                       oob_score=False, random_state=None, verbose=0,\n",
       "                       warm_start=False)"
      ]
     },
     "execution_count": 21,
     "metadata": {},
     "output_type": "execute_result"
    }
   ],
   "source": [
    "# prepare model\n",
    "model = RandomForestClassifier(criterion='gini', max_depth= 100, n_estimators= 80,n_jobs=-1)\n",
    "model.fit(X_train, Y_train)"
   ]
  },
  {
   "cell_type": "code",
   "execution_count": 22,
   "metadata": {
    "_cell_guid": "f9725666-3c21-69d1-ddf6-45e47d982444"
   },
   "outputs": [
    {
     "name": "stdout",
     "output_type": "stream",
     "text": [
      "0.9585169821104486\n",
      "[[ 442   25    0]\n",
      " [  17 2621   45]\n",
      " [   0   73  634]]\n",
      "              precision    recall  f1-score   support\n",
      "\n",
      "        -1.0       0.96      0.95      0.95       467\n",
      "         0.0       0.96      0.98      0.97      2683\n",
      "         1.0       0.93      0.90      0.91       707\n",
      "\n",
      "    accuracy                           0.96      3857\n",
      "   macro avg       0.95      0.94      0.95      3857\n",
      "weighted avg       0.96      0.96      0.96      3857\n",
      "\n"
     ]
    }
   ],
   "source": [
    "# estimate accuracy on validation set\n",
    "predictions = model.predict(X_validation)\n",
    "print(accuracy_score(Y_validation, predictions))\n",
    "print(confusion_matrix(Y_validation, predictions))\n",
    "print(classification_report(Y_validation, predictions))"
   ]
  },
  {
   "cell_type": "code",
   "execution_count": 23,
   "metadata": {},
   "outputs": [
    {
     "data": {
      "text/plain": [
       "<matplotlib.axes._subplots.AxesSubplot at 0x1da51ec12b0>"
      ]
     },
     "execution_count": 23,
     "metadata": {},
     "output_type": "execute_result"
    },
    {
     "data": {
      "image/png": "[encoded data removed]",
      "text/plain": [
       "<Figure size 432x288 with 2 Axes>"
      ]
     },
     "metadata": {
      "needs_background": "light"
     },
     "output_type": "display_data"
    }
   ],
   "source": [
    "df_cm = pd.DataFrame(confusion_matrix(Y_validation, predictions), columns=np.unique(Y_validation), index = np.unique(Y_validation))\n",
    "df_cm.index.name = 'Actual'\n",
    "df_cm.columns.name = 'Predicted'\n",
    "sns.heatmap(df_cm, cmap=\"Blues\", annot=True,annot_kws={\"size\": 16})# font sizes"
   ]
  },
  {
   "cell_type": "markdown",
   "metadata": {},
   "source": [
    "From the confusion matrix shown above, the random forest algorithm predicts both the classes of 1 and -1 where the investors change the risk aversion quite accurately. The overall accuracy of the test set is above 95%.\n"
   ]
  },
  {
   "cell_type": "markdown",
   "metadata": {},
   "source": [
    "<a id='7'></a>\n",
    "# 7. Feature Importance and Features Intuition"
   ]
  },
  {
   "cell_type": "markdown",
   "metadata": {},
   "source": [
    "<a id='7.1'></a>\n",
    "## 7.1. Feature Importance\n",
    "Looking at the details above Random forest be worthy of further study.\n",
    "Let us look into the Feature Importance of the RF model"
   ]
  },
  {
   "cell_type": "code",
   "execution_count": 156,
   "metadata": {},
   "outputs": [
    {
     "data": {
      "image/png": "[encoded data removed]",
      "text/plain": [
       "<Figure size 432x288 with 1 Axes>"
      ]
     },
     "metadata": {
      "needs_background": "light"
     },
     "output_type": "display_data"
    }
   ],
   "source": [
    "feat_importances = pd.Series(model.feature_importances_, index=X.columns)\n",
    "\n",
    "feat_importances.nlargest(20).plot(kind='barh',color='r' )\n",
    "plt.show()"
   ]
  },
  {
   "cell_type": "markdown",
   "metadata": {},
   "source": [
    "Age, income and net-worth come out to be the three most important factors which is a\n",
    "quite intuitive and meaningful outcome"
   ]
  },
  {
   "cell_type": "markdown",
   "metadata": {},
   "source": [
    "<a id='7.2'></a>\n",
    "## 7.2. Feature Intuition"
   ]
  },
  {
   "cell_type": "markdown",
   "metadata": {},
   "source": [
    "Analysing the important features"
   ]
  },
  {
   "cell_type": "code",
   "execution_count": 138,
   "metadata": {},
   "outputs": [
    {
     "data": {
      "text/plain": [
       "<matplotlib.axes._subplots.AxesSubplot at 0x1da59c98400>"
      ]
     },
     "execution_count": 138,
     "metadata": {},
     "output_type": "execute_result"
    },
    {
     "data": {
      "image/png": "[encoded data removed]",
      "text/plain": [
       "<Figure size 432x288 with 1 Axes>"
      ]
     },
     "metadata": {
      "needs_background": "light"
     },
     "output_type": "display_data"
    }
   ],
   "source": [
    "dataset.groupby('ChangeRiskAversion').mean()[['INCOME07','NFIN07','ASSET07','FIN07']].plot.bar()"
   ]
  },
  {
   "cell_type": "markdown",
   "metadata": {},
   "source": [
    "It is clear from the chart above that the investors who had lower income and asset become more risk averse, and the investors who had higher income had decreased risk aversion."
   ]
  },
  {
   "cell_type": "code",
   "execution_count": 74,
   "metadata": {},
   "outputs": [
    {
     "data": {
      "text/plain": [
       "<matplotlib.axes._subplots.AxesSubplot at 0x1da57b34198>"
      ]
     },
     "execution_count": 74,
     "metadata": {},
     "output_type": "execute_result"
    },
    {
     "data": {
      "image/png": "[encoded data removed]",
      "text/plain": [
       "<Figure size 432x288 with 1 Axes>"
      ]
     },
     "metadata": {
      "needs_background": "light"
     },
     "output_type": "display_data"
    }
   ],
   "source": [
    "charge_off_rates = dataset.groupby('AGE07')['ChangeRiskAversion'].value_counts(normalize=True).loc[:,1]\n",
    "sns.barplot(x=charge_off_rates.index, y=charge_off_rates.values, color='#5975A4', saturation=1)"
   ]
  },
  {
   "cell_type": "code",
   "execution_count": 139,
   "metadata": {},
   "outputs": [
    {
     "data": {
      "text/plain": [
       "<matplotlib.axes._subplots.AxesSubplot at 0x1da59d22e80>"
      ]
     },
     "execution_count": 139,
     "metadata": {},
     "output_type": "execute_result"
    },
    {
     "data": {
      "image/png": "[encoded data removed]",
      "text/plain": [
       "<Figure size 432x288 with 1 Axes>"
      ]
     },
     "metadata": {
      "needs_background": "light"
     },
     "output_type": "display_data"
    }
   ],
   "source": [
    "dataset.groupby('ChangeRiskAversion').mean()[['AGE07']].plot.bar()"
   ]
  },
  {
   "cell_type": "code",
   "execution_count": 155,
   "metadata": {},
   "outputs": [
    {
     "data": {
      "text/plain": [
       "AGECL07\n",
       "1    0.191597\n",
       "2    0.129609\n",
       "3    0.118354\n",
       "4    0.087112\n",
       "5    0.044259\n",
       "6    0.056970\n",
       "Name: ChangeRiskAversion, dtype: float64"
      ]
     },
     "execution_count": 155,
     "metadata": {},
     "output_type": "execute_result"
    }
   ],
   "source": [
    "dataset.groupby('AGECL07')['ChangeRiskAversion'].value_counts(normalize=True).loc[:,-1]"
   ]
  },
  {
   "cell_type": "markdown",
   "metadata": {},
   "source": [
    "The change in risk aversion changes with the age and people and people with relatively younger age change their risk appetite. Also, for the change to -1, people who became more risk takers after crisis period were younger people. "
   ]
  },
  {
   "cell_type": "markdown",
   "metadata": {},
   "source": [
    "__Conclusion__:\n",
    "\n",
    "We demonstrated the fact that machine learning\n",
    "models might be able to objectively analyze the behavior of different investors with\n",
    "the change in market and attribute these changes to variables involved in determining\n",
    "risk appetite.\n",
    "\n",
    "In the data preparation step, we illustrated the importance of\n",
    "data reduction step and demonstrate how can we achieve the feature elimination\n",
    "when there is a large number of features.\n",
    "\n",
    "Finally, we analyzed the feature importance and found that results of the case study\n",
    "are quite meaningful and provided a good insight into the investor behavior with\n",
    "changing market situation. The investors who had lower income and asset become\n",
    "more risk averse, and the investors who had higher income had decreased risk aver‐\n",
    "sion. The change in risk aversion changes with the age and individuals and individu‐\n",
    "als with relatively younger age change their risk appetite. Such feature analysis\n",
    "provides us deeper qualitative insight into a machine learning model.\n",
    "\n",
    "\n"
   ]
  }
 ],
 "metadata": {
  "_change_revision": 206,
  "_is_fork": false,
  "kernelspec": {
   "display_name": "Python 3",
   "language": "python",
   "name": "python3"
  },
  "language_info": {
   "codemirror_mode": {
    "name": "ipython",
    "version": 3
   },
   "file_extension": ".py",
   "mimetype": "text/x-python",
   "name": "python",
   "nbconvert_exporter": "python",
   "pygments_lexer": "ipython3",
   "version": "3.7.3"
  }
 },
 "nbformat": 4,
 "nbformat_minor": 1
}
