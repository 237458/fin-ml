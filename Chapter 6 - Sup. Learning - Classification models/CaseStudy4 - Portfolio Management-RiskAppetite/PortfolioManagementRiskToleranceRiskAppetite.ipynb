{
 "cells": [
  {
   "cell_type": "markdown",
   "metadata": {
    "_cell_guid": "83708667-4fdc-1563-7b3a-06b6575d2865"
   },
   "source": [
    "\n",
    "\n",
    "# Portfolio Management-Market Volatility and Risk Appetite\n",
    "\n",
    "The goal of this case study is to build a machine learning\n",
    "model to predict whether a person is likely to change the risk appetite with the\n",
    "change in the market situation. The purpose is also to identify the factors the cause people to change their risk appetite. \n"
   ]
  },
  {
   "cell_type": "markdown",
   "metadata": {},
   "source": [
    "## Content"
   ]
  },
  {
   "cell_type": "markdown",
   "metadata": {},
   "source": [
    "* [1. Problem Definition](#0)\n",
    "* [2. Getting Started - Load Libraries and Dataset](#1)\n",
    "    * [2.1. Load Libraries](#1.1)    \n",
    "    * [2.2. Load Dataset](#1.2)\n",
    "* [3. Data Preparation and Feature Selection](#2)\n",
    "    * [3.1. Preparing the predicted variable](#2.1)    \n",
    "    * [3.2. Feature Selection-Limit the Feature Space](#2.2)\n",
    "* [4.Evaluate Algorithms and Models](#4)        \n",
    "    * [4.1. Train/Test Split](#4.1)\n",
    "    * [4.2. Test Options and Evaluation Metrics](#4.2)\n",
    "    * [4.3. Compare Models and Algorithms](#4.3)\n",
    "* [5. Model Tuning and Grid Search](#5)  \n",
    "* [6. Finalize the Model](#6)  \n",
    "    * [6.1. Results on test dataset](#6.1)\n",
    "* [7 Feature Analysis](#7)\n",
    "    * [7.1. Feature Importance](#7.1)\n",
    "    * [7.2. Feature Intuition](#7.2)\n"
   ]
  },
  {
   "cell_type": "markdown",
   "metadata": {},
   "source": [
    "<a id='0'></a>\n",
    "# 1. Problem Definition"
   ]
  },
  {
   "cell_type": "markdown",
   "metadata": {},
   "source": [
    "This case study uses a classification-based model to predict whether a person is likely\n",
    "to change the risk aversion with the change in the market situation not.\n",
    "\n",
    "\n",
    "For this case study the data used is from survey of Consumer Finances which is conducted by the Federal Reserve\n",
    "Board. The data source is : \n",
    "https://www.federalreserve.gov/econres/scf_2009p.htm\n"
   ]
  },
  {
   "cell_type": "markdown",
   "metadata": {},
   "source": [
    "<a id='1'></a>\n",
    "# 2. Getting Started- Loading the data and python packages"
   ]
  },
  {
   "cell_type": "markdown",
   "metadata": {},
   "source": [
    "<a id='1.1'></a>\n",
    "## 2.1. Loading the python packages"
   ]
  },
  {
   "cell_type": "code",
   "execution_count": 3,
   "metadata": {
    "_cell_guid": "5d8fee34-f454-2642-8b06-ed719f0317e1"
   },
   "outputs": [
    {
     "name": "stderr",
     "output_type": "stream",
     "text": [
      "Using TensorFlow backend.\n"
     ]
    }
   ],
   "source": [
    "# Load libraries\n",
    "import numpy as np\n",
    "import pandas as pd\n",
    "import matplotlib.pyplot as plt\n",
    "from pandas import read_csv, set_option\n",
    "from pandas.plotting import scatter_matrix\n",
    "import seaborn as sns\n",
    "from sklearn.preprocessing import StandardScaler\n",
    "from sklearn.model_selection import train_test_split, KFold, cross_val_score, GridSearchCV\n",
    "from sklearn.linear_model import LogisticRegression\n",
    "from sklearn.tree import DecisionTreeClassifier\n",
    "from sklearn.neighbors import KNeighborsClassifier\n",
    "from sklearn.discriminant_analysis import LinearDiscriminantAnalysis\n",
    "from sklearn.naive_bayes import GaussianNB\n",
    "from sklearn.svm import SVC\n",
    "from sklearn.neural_network import MLPClassifier\n",
    "from sklearn.pipeline import Pipeline\n",
    "from sklearn.ensemble import AdaBoostClassifier, GradientBoostingClassifier, RandomForestClassifier, ExtraTreesClassifier\n",
    "from sklearn.metrics import classification_report, confusion_matrix, accuracy_score\n",
    "\n",
    "#Libraries for Deep Learning Models\n",
    "from keras.models import Sequential\n",
    "from keras.layers import Dense\n",
    "from keras.wrappers.scikit_learn import KerasClassifier\n",
    "from keras.optimizers import SGD"
   ]
  },
  {
   "cell_type": "markdown",
   "metadata": {},
   "source": [
    "<a id='1.2'></a>\n",
    "## 2.2. Loading the Data"
   ]
  },
  {
   "cell_type": "code",
   "execution_count": 4,
   "metadata": {
    "_cell_guid": "787e35f7-bf9e-0969-8d13-a54fa87f3519",
    "scrolled": true
   },
   "outputs": [],
   "source": [
    "# load dataset\n",
    "dataset = pd.read_excel('SCFP2009panel.xlsx')"
   ]
  },
  {
   "cell_type": "code",
   "execution_count": 7,
   "metadata": {},
   "outputs": [],
   "source": [
    "#Diable the warnings\n",
    "import warnings\n",
    "warnings.filterwarnings('ignore')"
   ]
  },
  {
   "cell_type": "code",
   "execution_count": 158,
   "metadata": {},
   "outputs": [
    {
     "data": {
      "text/plain": [
       "pandas.core.frame.DataFrame"
      ]
     },
     "execution_count": 158,
     "metadata": {},
     "output_type": "execute_result"
    }
   ],
   "source": [
    "type(dataset)"
   ]
  },
  {
   "cell_type": "code",
   "execution_count": 159,
   "metadata": {},
   "outputs": [
    {
     "data": {
      "text/plain": [
       "(19285, 35)"
      ]
     },
     "execution_count": 159,
     "metadata": {},
     "output_type": "execute_result"
    }
   ],
   "source": [
    "dataset.shape"
   ]
  },
  {
   "cell_type": "markdown",
   "metadata": {},
   "source": [
    "<a id='2'></a>\n",
    "## 3. Data Preparation and Feature Selection"
   ]
  },
  {
   "cell_type": "markdown",
   "metadata": {},
   "source": [
    "<a id='2.1'></a>\n",
    "## 3.1. Preparing the predicted variable"
   ]
  },
  {
   "attachments": {
    "CodeCogsEqn%20%282%29.gif": {
     "image/gif": "[encoded data removed]"
    }
   },
   "cell_type": "markdown",
   "metadata": {},
   "source": [
    "The dataset from \"Survey of Consumer Finances\" contains the Household's demographics, net worth, financial and non-financial assets for the same demographics in 2007 (pre-crisis) and 2009(post-crisis). \n",
    "\n",
    "The data can be used to get the implied Risk Aversion for the household from the Household's demographics, net worth, financial and non-financial assets as per _Schooley and Worden (1996) (Risk Aversion Measures: Comparing Attitudes and Asset Allocation. Financial Services Review. 5 (2): 87-99) and is shown below:_ \n",
    "\n",
    "![CodeCogsEqn%20%282%29.gif](attachment:CodeCogsEqn%20%282%29.gif)\n",
    "\n",
    "* **Risky assets** is investments in mutual funds, stocks, bonds, commodities, and\n",
    "real estate, and an estimate of human capital. \n",
    "* **Risk Free Assets**: checking and savings balances,certificates of deposit, and other cash balances and equivalents.\n",
    "* **Ratio of MarketExcessReturn to Variance**: This is similar to sharp ratio is constant among all the market participants.\n",
    "* **h**: It is the ratio of human capital to total wealth.To compute human capital people are assumed to work until they are 65, their incomes increase by 3% annually and the average interest rate is 5% based on 10 year treasury yields during 2007. Since this is a long term measure. We define wealth as the sum of risky and risk-free assets\n",
    "\n"
   ]
  },
  {
   "cell_type": "code",
   "execution_count": 8,
   "metadata": {},
   "outputs": [],
   "source": [
    "dataset['UntilRetire07'] = dataset['AGE07'].apply(lambda x: max((70 - x),0))\n",
    "dataset['Multiplier07'] = dataset['UntilRetire07'].apply(lambda x: ((pow(1.07,x) - 1)/(0.05)))\n",
    "\n",
    "dataset['RiskFree07']= dataset['LIQ07'] + dataset['CDS07'] + dataset['SAVBND07'] + dataset['CASHLI07']\n",
    "dataset['HumanCap07'] = dataset['Multiplier07']*dataset['INCOME07']\n",
    "dataset['Risky07'] = dataset['NMMF07'] + dataset['STOCKS07'] + dataset['BOND07'] + dataset['HumanCap07']\n",
    "dataset['Alpha07'] = dataset['Risky07']/(dataset['Risky07']+dataset['RiskFree07'])\n",
    "dataset['h07'] = dataset['HumanCap07']/(dataset['HOUSES07'] + dataset['Risky07']+dataset['RiskFree07'])\n",
    "dataset['CValue07'] = 0.45/((1-dataset['h07'])*(dataset['Alpha07']))\n",
    "\n",
    "dataset['UntilRetire09'] = dataset['AGE07'].apply(lambda x: max((70 - x),0))\n",
    "dataset['Multiplier09'] = dataset['UntilRetire07'].apply(lambda x: ((pow(1.07,x) - 1)/(0.05)))\n",
    "\n",
    "dataset['RiskFree09']= dataset['LIQ09'] + dataset['CDS09'] + dataset['SAVBND09'] + dataset['CASHLI09']\n",
    "dataset['HumanCap09'] = dataset['Multiplier09']*dataset['INCOME09']\n",
    "dataset['Risky09'] = dataset['NMMF09'] + dataset['STOCKS09'] + dataset['BOND09'] + dataset['HumanCap09']\n",
    "dataset['Alpha09'] = dataset['Risky09']/(dataset['Risky09']+dataset['RiskFree09'])\n",
    "dataset['h09'] = dataset['HumanCap09']/(dataset['HOUSES09'] + dataset['Risky09']+dataset['RiskFree09'])\n",
    "dataset['CValue09'] = 0.45/((1-dataset['h09'])*(dataset['Alpha09']))\n",
    "dataset['PercentageChange'] = dataset['CValue09']/dataset['CValue07']-1"
   ]
  },
  {
   "cell_type": "markdown",
   "metadata": {},
   "source": [
    "The predicted variable is the degree of percentage change in Risk Aversion between 2007 and 2009, and is defined as follows:\n",
    "* Change > 75%  = 1\n",
    "* Change <-.75% = -1\n",
    "* -75% < Change > 75% = 0"
   ]
  },
  {
   "cell_type": "code",
   "execution_count": 9,
   "metadata": {},
   "outputs": [],
   "source": [
    "dataset['ChangeRiskAversion'] = np.where(dataset['PercentageChange'] > .75, 1.0, (np.where(dataset['PercentageChange'] < -.75,-1,0)))"
   ]
  },
  {
   "cell_type": "code",
   "execution_count": 10,
   "metadata": {},
   "outputs": [
    {
     "data": {
      "image/png": "[encoded data removed]",
      "text/plain": [
       "<Figure size 432x288 with 1 Axes>"
      ]
     },
     "metadata": {
      "needs_background": "light"
     },
     "output_type": "display_data"
    }
   ],
   "source": [
    "fig = plt.figure()\n",
    "plot = dataset.groupby(['ChangeRiskAversion']).size().plot(kind='barh', color='red')\n",
    "plt.show()"
   ]
  },
  {
   "cell_type": "code",
   "execution_count": 11,
   "metadata": {},
   "outputs": [
    {
     "data": {
      "text/plain": [
       " 0.0    0.702411\n",
       " 1.0    0.187088\n",
       "-1.0    0.110500\n",
       "Name: ChangeRiskAversion, dtype: float64"
      ]
     },
     "execution_count": 11,
     "metadata": {},
     "output_type": "execute_result"
    }
   ],
   "source": [
    "dataset['ChangeRiskAversion'].value_counts(normalize=True, dropna=False)"
   ]
  },
  {
   "cell_type": "markdown",
   "metadata": {},
   "source": [
    "About 70% of the People didn't change the risk aversion, however, around 18% increased their risk aversion and 11% decreased the risk aversion by more than 75%. "
   ]
  },
  {
   "cell_type": "markdown",
   "metadata": {},
   "source": [
    "<a id='2.2'></a>\n",
    "## 3.2. Feature Selection-Limit the Feature Space "
   ]
  },
  {
   "cell_type": "code",
   "execution_count": 12,
   "metadata": {},
   "outputs": [
    {
     "data": {
      "text/plain": [
       "(19285, 533)"
      ]
     },
     "execution_count": 12,
     "metadata": {},
     "output_type": "execute_result"
    }
   ],
   "source": [
    "dataset.shape"
   ]
  },
  {
   "cell_type": "code",
   "execution_count": 13,
   "metadata": {},
   "outputs": [
    {
     "data": {
      "text/plain": [
       "YY1                     int64\n",
       "Y1                      int64\n",
       "WGT09                 float64\n",
       "AGE07                   int64\n",
       "AGECL07                 int64\n",
       "EDUC07                  int64\n",
       "EDCL07                  int64\n",
       "MARRIED07               int64\n",
       "KIDS07                  int64\n",
       "LIFECL07                int64\n",
       "FAMSTRUCT07             int64\n",
       "RACECL                  int64\n",
       "H_RACECL                int64\n",
       "RACE                    int64\n",
       "H_RACE                  int64\n",
       "OCCAT107                int64\n",
       "OCCAT207                int64\n",
       "INDCAT07                int64\n",
       "HHEALTH07               int64\n",
       "SPHEALTH07              int64\n",
       "INCOME07              float64\n",
       "WAGEINC07             float64\n",
       "BUSSEFARMINC07        float64\n",
       "INTDIVINC07           float64\n",
       "KGINC07               float64\n",
       "SSRETINC07            float64\n",
       "TRANSFOTHINC07        float64\n",
       "PENACCTWD07             int64\n",
       "NORMINC07             float64\n",
       "RISK07                  int64\n",
       "PSAVING07             float64\n",
       "WSAVED07                int64\n",
       "SAVED07                 int64\n",
       "SAVRES1                 int64\n",
       "SAVRES2                 int64\n",
       "SAVRES3                 int64\n",
       "SAVRES4                 int64\n",
       "SAVRES5                 int64\n",
       "SAVRES6                 int64\n",
       "SAVRES7                 int64\n",
       "SAVRES8                 int64\n",
       "SAVRES9                 int64\n",
       "SPENDMOR07              int64\n",
       "LATE6007                int64\n",
       "USPELL07                int64\n",
       "AGEFT07                 int64\n",
       "AGEALL07                int64\n",
       "POSTRWORK07             int64\n",
       "RFULL07                 int64\n",
       "BSHOPNONE07             int64\n",
       "BSHOPGRDL07             int64\n",
       "BSHOPMODR07             int64\n",
       "ISHOPNONE07             int64\n",
       "ISHOPGRDL07             int64\n",
       "ISHOPMODR07             int64\n",
       "BCALL07                 int64\n",
       "BMAGZNEWS07             int64\n",
       "BMAILADTV07             int64\n",
       "BINTERNET07             int64\n",
       "BFRIENDWORK07           int64\n",
       "BFINPRO07               int64\n",
       "BSELF07                 int64\n",
       "BDONT07                 int64\n",
       "BOTHER07                int64\n",
       "ICALL07                 int64\n",
       "IMAGZNEWS07             int64\n",
       "IMAILADTV07             int64\n",
       "IINTERNET07             int64\n",
       "IFRIENDWORK07           int64\n",
       "IFINPRO07               int64\n",
       "ISELF07                 int64\n",
       "IDONT07                 int64\n",
       "IOTHER07                int64\n",
       "BFINPLAN07              int64\n",
       "IFINPLAN07              int64\n",
       "APPLIED07               int64\n",
       "DENIED07                int64\n",
       "FULLAMT07               int64\n",
       "FEARED07                int64\n",
       "CHECKING07            float64\n",
       "HCHECK07                int64\n",
       "NOCHK07                 int64\n",
       "MSAVING07               int64\n",
       "HSAVING07               int64\n",
       "HMMA07                  int64\n",
       "CALL07                float64\n",
       "HCALL07                 int64\n",
       "LIQ07                 float64\n",
       "HLIQ07                  int64\n",
       "CDS07                 float64\n",
       "HCDS07                  int64\n",
       "NMMF07                float64\n",
       "HNMMF07                 int64\n",
       "STOCKS07              float64\n",
       "HSTOCKS07               int64\n",
       "NSTOCKS07               int64\n",
       "WILSH07                 int64\n",
       "BOND07                float64\n",
       "HBOND07                 int64\n",
       "IRAKH07               float64\n",
       "THRIFT07              float64\n",
       "PENEQ07               float64\n",
       "RETQLIQ07             float64\n",
       "HRETQLIQ07              int64\n",
       "ANYPEN07                int64\n",
       "DBPLANCJ07              int64\n",
       "DBPLANT07               int64\n",
       "DCPLANCJ07              int64\n",
       "BPLANCJ07               int64\n",
       "SAVBND07              float64\n",
       "HSAVBND07               int64\n",
       "CASHLI07              float64\n",
       "HCASHLI07               int64\n",
       "ANNUIT07              float64\n",
       "TRUSTS07              float64\n",
       "OTHMA07               float64\n",
       "HOTHMA07                int64\n",
       "OTHFIN07              float64\n",
       "HOTHFIN07               int64\n",
       "EQUITY07              float64\n",
       "HEQUITY07               int64\n",
       "DEQ07                 float64\n",
       "RETEQ07               float64\n",
       "EQUITINC07            float64\n",
       "HBROK07                 int64\n",
       "HTRAD07                 int64\n",
       "NTRAD07                 int64\n",
       "FIN07                 float64\n",
       "HFIN07                  int64\n",
       "VEHIC07               float64\n",
       "HVEHIC07                int64\n",
       "BUSVEH07                int64\n",
       "NBUSVEH07               int64\n",
       "OWN07                   int64\n",
       "NOWN07                  int64\n",
       "VOWN07                float64\n",
       "LEASE07                 int64\n",
       "NLEASE07                int64\n",
       "NVEHIC07                int64\n",
       "HOUSES07              float64\n",
       "HHOUSES07               int64\n",
       "HOUSECL07               int64\n",
       "ORESRE07              float64\n",
       "HORESRE07               int64\n",
       "NNRESRE07             float64\n",
       "HNNRESRE07              int64\n",
       "BUS07                 float64\n",
       "ACTBUS07              float64\n",
       "NONACTBUS07           float64\n",
       "HBUS07                  int64\n",
       "HABUS07                 int64\n",
       "OTHNFIN07             float64\n",
       "HOTHNFIN07              int64\n",
       "NFIN07                float64\n",
       "HNFIN07                 int64\n",
       "NHNFIN07              float64\n",
       "ASSET07               float64\n",
       "HASSET07                int64\n",
       "HELOC07               float64\n",
       "MRTHEL07              float64\n",
       "NHMORT07              float64\n",
       "HOMEEQ07              float64\n",
       "HMRTHEL07               int64\n",
       "HHELOC07                int64\n",
       "HNHMORT07               int64\n",
       "HPRIMMORT07             int64\n",
       "PURCH107                int64\n",
       "REFINEVER07             int64\n",
       "FGUARANTEE07            int64\n",
       "FHA07                   int64\n",
       "HSECMORT07              int64\n",
       "HELOCYN07               int64\n",
       "ADJM107                 int64\n",
       "ADJM207                 int64\n",
       "ONTIMEM107              int64\n",
       "ONTIMEM207              int64\n",
       "OTHLOC07              float64\n",
       "HOTHLOC07               int64\n",
       "RESDBT07              float64\n",
       "HRESDBT07               int64\n",
       "CCBAL07               float64\n",
       "HCCBAL07                int64\n",
       "VEHINST07             float64\n",
       "EDNINST07             float64\n",
       "INSTALL07             float64\n",
       "OTHINST07             float64\n",
       "HVEHINST07            float64\n",
       "HEDNINST07            float64\n",
       "HOTHINST07            float64\n",
       "HINSTALL07              int64\n",
       "ODEBT07               float64\n",
       "HODEBT07                int64\n",
       "DEBT07                float64\n",
       "HDEBT07                 int64\n",
       "NETWORTH07            float64\n",
       "TPAY07                float64\n",
       "MORTPAY07             float64\n",
       "CONSPAY07             float64\n",
       "REVPAY07              float64\n",
       "PIRTOTAL07            float64\n",
       "PIRMORT07             float64\n",
       "PIRCONS07             float64\n",
       "PIRREV07              float64\n",
       "INCCL207                int64\n",
       "NWCAT07                 int64\n",
       "INCCAT07                int64\n",
       "ASSETCAT07              int64\n",
       "HIPIR07                 int64\n",
       "LEVERAGE07            float64\n",
       "AGE09                   int64\n",
       "AGECL09                 int64\n",
       "EDUC09                  int64\n",
       "EDCL09                  int64\n",
       "MARRIED09               int64\n",
       "KIDS09                  int64\n",
       "LIFECL09                int64\n",
       "FAMSTRUCT09             int64\n",
       "OCCAT109                int64\n",
       "OCCAT209                int64\n",
       "INDCAT09                int64\n",
       "HHEALTH09               int64\n",
       "SPHEALTH09              int64\n",
       "INCOME09              float64\n",
       "WAGEINC09             float64\n",
       "BUSSEFARMINC09        float64\n",
       "INTDIVINC09           float64\n",
       "KGINC09               float64\n",
       "SSRETINC09            float64\n",
       "TRANSFOTHINC09        float64\n",
       "PENACCTWD09             int64\n",
       "NORMINC09             float64\n",
       "RISK09                  int64\n",
       "PSAVING09               int64\n",
       "WSAVED09                int64\n",
       "SAVED09                 int64\n",
       "SPENDMOR09              int64\n",
       "LATE6009                int64\n",
       "USPELL09                int64\n",
       "AGEFT09                 int64\n",
       "AGEALL09                int64\n",
       "POSTRWORK09             int64\n",
       "RFULL09                 int64\n",
       "BSHOPNONE09             int64\n",
       "BSHOPGRDL09             int64\n",
       "BSHOPMODR09             int64\n",
       "ISHOPNONE09             int64\n",
       "ISHOPGRDL09             int64\n",
       "ISHOPMODR09             int64\n",
       "BCALL09                 int64\n",
       "BMAGZNEWS09             int64\n",
       "                       ...   \n",
       "HCDS09                  int64\n",
       "NMMF09                  int64\n",
       "HNMMF09                 int64\n",
       "STOCKS09                int64\n",
       "HSTOCKS09               int64\n",
       "NSTOCKS09               int64\n",
       "WILSH                   int64\n",
       "BOND09                  int64\n",
       "HBOND09                 int64\n",
       "IRAKH09                 int64\n",
       "THRIFT09                int64\n",
       "PENEQ09               float64\n",
       "RETQLIQ09               int64\n",
       "HRETQLIQ09              int64\n",
       "ANYPEN09                int64\n",
       "DBPLANCJ09              int64\n",
       "DBPLANT09               int64\n",
       "DCPLANCJ09              int64\n",
       "BPLANCJ09               int64\n",
       "SAVBND09                int64\n",
       "HSAVBND09               int64\n",
       "CASHLI09                int64\n",
       "HCASHLI09               int64\n",
       "ANNUIT09                int64\n",
       "TRUSTS09                int64\n",
       "OTHMA09                 int64\n",
       "HOTHMA09                int64\n",
       "OTHFIN09                int64\n",
       "HOTHFIN09               int64\n",
       "EQUITY09              float64\n",
       "HEQUITY09               int64\n",
       "DEQ09                   int64\n",
       "RETEQ09               float64\n",
       "EQUITINC09            float64\n",
       "HBROK09                 int64\n",
       "HTRAD09                 int64\n",
       "NTRAD09                 int64\n",
       "FIN09                   int64\n",
       "HFIN09                  int64\n",
       "VEHIC09                 int64\n",
       "HVEHIC09                int64\n",
       "BUSVEH09                int64\n",
       "NBUSVEH09               int64\n",
       "OWN09                   int64\n",
       "NOWN09                  int64\n",
       "VOWN09                  int64\n",
       "LEASE09                 int64\n",
       "NLEASE09                int64\n",
       "NVEHIC09                int64\n",
       "HOUSES09              float64\n",
       "HHOUSES09               int64\n",
       "HOUSECL09               int64\n",
       "ORESRE09                int64\n",
       "HORESRE09               int64\n",
       "NNRESRE09               int64\n",
       "HNNRESRE09              int64\n",
       "BUS09                 float64\n",
       "ACTBUS09              float64\n",
       "NONACTBUS09             int64\n",
       "HBUS09                  int64\n",
       "HABUS09                 int64\n",
       "OTHNFIN09               int64\n",
       "HOTHNFIN09              int64\n",
       "NFIN09                float64\n",
       "HNFIN09                 int64\n",
       "NHNFIN09              float64\n",
       "ASSET09               float64\n",
       "HASSET09                int64\n",
       "HELOC09                 int64\n",
       "MRTHEL09              float64\n",
       "NHMORT09              float64\n",
       "HOMEEQ09              float64\n",
       "HMRTHEL09               int64\n",
       "HHELOC09                int64\n",
       "HNHMORT09               int64\n",
       "HPRIMMORT09             int64\n",
       "PURCH109                int64\n",
       "REFINEVER09             int64\n",
       "FGUARANTEE09            int64\n",
       "FHA09                   int64\n",
       "HSECMORT09              int64\n",
       "HELOCYN09               int64\n",
       "ADJM109                 int64\n",
       "ADJM209                 int64\n",
       "ONTIMEM109              int64\n",
       "ONTIMEM209              int64\n",
       "OTHLOC09                int64\n",
       "HOTHLOC09               int64\n",
       "RESDBT09                int64\n",
       "HRESDBT09               int64\n",
       "CCBAL09                 int64\n",
       "HCCBAL09                int64\n",
       "VEHINST09               int64\n",
       "EDNINST09               int64\n",
       "INSTALL09               int64\n",
       "OTHINST09               int64\n",
       "HVEHINST09              int64\n",
       "HEDNINST09              int64\n",
       "HOTHINST09              int64\n",
       "HINSTALL09              int64\n",
       "ODEBT09                 int64\n",
       "HODEBT09                int64\n",
       "DEBT09                float64\n",
       "HDEBT09                 int64\n",
       "NETWORTH09              int64\n",
       "TPAY09                float64\n",
       "MORTPAY09             float64\n",
       "CONSPAY09             float64\n",
       "REVPAY09              float64\n",
       "PIRTOTAL09            float64\n",
       "PIRMORT09             float64\n",
       "PIRCONS09             float64\n",
       "PIRREV09              float64\n",
       "INCCL209                int64\n",
       "NWCAT09                 int64\n",
       "INCCAT09                int64\n",
       "ASSETCAT09              int64\n",
       "HIPIR09                 int64\n",
       "LEVERAGE09            float64\n",
       "INCOMEDIF             float64\n",
       "ASSETDIF              float64\n",
       "NETWORTHDIF           float64\n",
       "FINDIF                float64\n",
       "LIQDIF                float64\n",
       "CDSDIF                float64\n",
       "NMMFDIF               float64\n",
       "STOCKSDIF             float64\n",
       "BONDDIF               float64\n",
       "RETQLIQDIF            float64\n",
       "SAVBNDDIF             float64\n",
       "CASHLIDIF             float64\n",
       "OTHMADIF              float64\n",
       "OTHFINDIF             float64\n",
       "NFINDIF               float64\n",
       "VEHICDIF              float64\n",
       "HOUSESDIF             float64\n",
       "ORESREDIF             float64\n",
       "NNRESREDIF            float64\n",
       "BUSDIF                float64\n",
       "OTHNFINDIF            float64\n",
       "DEBTDIF               float64\n",
       "MRTHELDIF             float64\n",
       "RESDBTDIF             float64\n",
       "OTHLOCDIF             float64\n",
       "CCBALDIF              float64\n",
       "INSTALLDIF            float64\n",
       "ODEBTDIF              float64\n",
       "TPAYDIF               float64\n",
       "MORTPAYDIF            float64\n",
       "CONSPAYDIF            float64\n",
       "REVPAYDIF             float64\n",
       "EQUITYDIF             float64\n",
       "DEQDIF                float64\n",
       "VOWNDIF               float64\n",
       "RETEQDIF              float64\n",
       "NORMINCDIF            float64\n",
       "CHECKINGDIF           float64\n",
       "MSAVINGDIF              int64\n",
       "CALLDIF               float64\n",
       "HOMEEQDIF             float64\n",
       "IRAKHDIF              float64\n",
       "PENEQDIF              float64\n",
       "VEHINSTDIF            float64\n",
       "EDNINSTDIF            float64\n",
       "OTHINSTDIF            float64\n",
       "HELOCDIF              float64\n",
       "NHMORTDIF             float64\n",
       "WAGEINCDIF            float64\n",
       "BUSSEFARMINCDIF       float64\n",
       "INTDIVINCDIF          float64\n",
       "KGINCDIF              float64\n",
       "SSRETINCDIF           float64\n",
       "TRANSFOTHINCDIF       float64\n",
       "PSAVINGDIF            float64\n",
       "LEVERAGEDIF           float64\n",
       "INCOMEPCT             float64\n",
       "ASSETPCT              float64\n",
       "NETWORTHPCT           float64\n",
       "FINPCT                float64\n",
       "LIQPCT                float64\n",
       "CDSPCT                float64\n",
       "NMMFPCT               float64\n",
       "STOCKSPCT             float64\n",
       "BONDPCT               float64\n",
       "RETQLIQPCT            float64\n",
       "SAVBNDPCT             float64\n",
       "CASHLIPCT             float64\n",
       "OTHMAPCT              float64\n",
       "OTHFINPCT             float64\n",
       "NFINPCT               float64\n",
       "VEHICPCT              float64\n",
       "HOUSESPCT             float64\n",
       "ORESREPCT             float64\n",
       "NNRESREPCT            float64\n",
       "BUSPCT                float64\n",
       "OTHNFINPCT            float64\n",
       "DEBTPCT               float64\n",
       "MRTHELPCT             float64\n",
       "RESDBTPCT             float64\n",
       "OTHLOCPCT             float64\n",
       "CCBALPCT              float64\n",
       "INSTALLPCT            float64\n",
       "ODEBTPCT              float64\n",
       "TPAYPCT               float64\n",
       "MORTPAYPCT            float64\n",
       "CONSPAYPCT            float64\n",
       "REVPAYPCT             float64\n",
       "EQUITYPCT             float64\n",
       "DEQPCT                float64\n",
       "VOWNPCT               float64\n",
       "RETEQPCT              float64\n",
       "NORMINCPCT            float64\n",
       "CHECKINGPCT           float64\n",
       "MSAVINGPCT            float64\n",
       "CALLPCT               float64\n",
       "HOMEEQPCT             float64\n",
       "IRAKHPCT              float64\n",
       "PENEQPCT              float64\n",
       "VEHINSTPCT            float64\n",
       "EDNINSTPCT            float64\n",
       "OTHINSTPCT            float64\n",
       "HELOCPCT              float64\n",
       "NHMORTPCT             float64\n",
       "WAGEINCPCT            float64\n",
       "BUSSEFARMINCPCT       float64\n",
       "INTDIVINCPCT          float64\n",
       "KGINCPCT              float64\n",
       "SSRETINCPCT           float64\n",
       "TRANSFOTHINCPCT       float64\n",
       "PSAVINGPCT            float64\n",
       "LEVERAGEPCT           float64\n",
       "I                       int64\n",
       "UntilRetire07           int64\n",
       "Multiplier07          float64\n",
       "RiskFree07            float64\n",
       "HumanCap07            float64\n",
       "Risky07               float64\n",
       "Alpha07               float64\n",
       "h07                   float64\n",
       "CValue07              float64\n",
       "UntilRetire09           int64\n",
       "Multiplier09          float64\n",
       "RiskFree09              int64\n",
       "HumanCap09            float64\n",
       "Risky09               float64\n",
       "Alpha09               float64\n",
       "h09                   float64\n",
       "CValue09              float64\n",
       "PercentageChange      float64\n",
       "ChangeRiskAversion    float64\n",
       "Length: 533, dtype: object"
      ]
     },
     "execution_count": 13,
     "metadata": {},
     "output_type": "execute_result"
    }
   ],
   "source": [
    "# types\n",
    "set_option('display.max_rows', 500)\n",
    "#dataset.dtypes"
   ]
  },
  {
   "cell_type": "markdown",
   "metadata": {},
   "source": [
    "<a id='2.2.2'></a>\n",
    "### 3.2.2.  Features elimination"
   ]
  },
  {
   "attachments": {
    "ListOfFactors.PNG": {
     "image/png": "[encoded data removed]"
    }
   },
   "cell_type": "markdown",
   "metadata": {},
   "source": [
    "In order to filter the features further we do the following:\n",
    "1. Check the description in the Data Dictionary (https://www.federalreserve.gov/econres/files/codebk2009p.txtand only keep the features that are intuitive based on subjective judgement\n",
    "The description of the factors is as follows: \n",
    "![ListOfFactors.PNG](attachment:ListOfFactors.PNG)\n",
    "\n",
    "\n",
    "2. Keep only the intuitive factors as of 2007 only and remove all the intermediate features and features related to 2009, as the variables of 2007 are the only ones required for predicting a change in the risk tolerance.\n"
   ]
  },
  {
   "cell_type": "code",
   "execution_count": 14,
   "metadata": {},
   "outputs": [
    {
     "data": {
      "text/plain": [
       "36"
      ]
     },
     "execution_count": 14,
     "metadata": {},
     "output_type": "execute_result"
    }
   ],
   "source": [
    "keep_list = ['ChangeRiskAversion','AGE07', 'AGECL07', 'EDCL07', 'MARRIED07', 'KIDS07', 'LIFECL07', 'OCCAT107', 'INCOME07', 'NORMINC07', 'RISK07', 'WSAVED07', 'SAVED07', 'SPENDMOR07', 'LIQ07', 'CDS07', 'NMMF07', 'STOCKS07', 'BOND07', 'RETQLIQ07', 'SAVBND07','CASHLI07', 'OTHMA07', 'OTHFIN07', 'FIN07', 'ORESRE07', 'NNRESRE07', 'OTHNFIN07', 'NFIN07', 'NHNFIN07', 'HOUSES07', 'ASSET07', 'HOMEEQ07', 'DEBT07', 'NETWORTH07', 'RISK07']\n",
    "len(keep_list)"
   ]
  },
  {
   "cell_type": "code",
   "execution_count": 15,
   "metadata": {},
   "outputs": [
    {
     "data": {
      "text/plain": [
       "(19285, 35)"
      ]
     },
     "execution_count": 15,
     "metadata": {},
     "output_type": "execute_result"
    }
   ],
   "source": [
    "drop_list = [col for col in dataset.columns if col not in keep_list]\n",
    "\n",
    "dataset.drop(labels=drop_list, axis=1, inplace=True)\n",
    "\n",
    "dataset.shape"
   ]
  },
  {
   "cell_type": "code",
   "execution_count": 16,
   "metadata": {},
   "outputs": [
    {
     "name": "stdout",
     "output_type": "stream",
     "text": [
      "Null Values = False\n"
     ]
    }
   ],
   "source": [
    "#Checking for any null values and removing the null values'''\n",
    "print('Null Values =',dataset.isnull().values.any())"
   ]
  },
  {
   "cell_type": "code",
   "execution_count": 17,
   "metadata": {},
   "outputs": [
    {
     "data": {
      "text/plain": [
       "(19285, 35)"
      ]
     },
     "execution_count": 17,
     "metadata": {},
     "output_type": "execute_result"
    }
   ],
   "source": [
    "# Drop the rows containing NA\n",
    "dataset=dataset.dropna(axis=0)\n",
    "dataset=dataset.replace([np.inf, -np.inf], np.nan).dropna(axis=0)\n",
    "dataset.shape"
   ]
  },
  {
   "cell_type": "markdown",
   "metadata": {},
   "source": [
    "<a id='4'></a>\n",
    "# 4. Evaluate Algorithms and Models"
   ]
  },
  {
   "cell_type": "markdown",
   "metadata": {},
   "source": [
    "<a id='4.1'></a>\n",
    "## 4.1. Train Test Split"
   ]
  },
  {
   "cell_type": "code",
   "execution_count": 40,
   "metadata": {},
   "outputs": [],
   "source": [
    "# split out validation dataset for the end\n",
    "Y= dataset[\"ChangeRiskAversion\"]\n",
    "X = dataset.loc[:, dataset.columns != 'ChangeRiskAversion']\n",
    "scaler = StandardScaler().fit(X)\n",
    "rescaledX = scaler.transform(X)\n",
    "validation_size = 0.2\n",
    "seed = 7\n",
    "X_train, X_validation, Y_train, Y_validation = train_test_split(rescaledX, Y, test_size=validation_size, random_state=seed)"
   ]
  },
  {
   "cell_type": "code",
   "execution_count": 20,
   "metadata": {},
   "outputs": [
    {
     "data": {
      "text/plain": [
       " 0.0    13546\n",
       " 1.0     3608\n",
       "-1.0     2131\n",
       "Name: ChangeRiskAversion, dtype: int64"
      ]
     },
     "execution_count": 20,
     "metadata": {},
     "output_type": "execute_result"
    }
   ],
   "source": [
    "dataset['ChangeRiskAversion'].value_counts()"
   ]
  },
  {
   "cell_type": "markdown",
   "metadata": {},
   "source": [
    "<a id='4.2'></a>\n",
    "## 4.2. Test Options and Evaluation Metrics\n"
   ]
  },
  {
   "cell_type": "code",
   "execution_count": 160,
   "metadata": {
    "_cell_guid": "5702bc31-06bf-8b6a-42de-366a6b3311a8"
   },
   "outputs": [],
   "source": [
    "# test options for classification\n",
    "num_folds = 10\n",
    "seed = 7\n",
    "scoring = 'accuracy'\n",
    "#scoring ='precision'\n",
    "#scoring ='recall'\n",
    "#scoring = 'roc_auc'"
   ]
  },
  {
   "cell_type": "markdown",
   "metadata": {},
   "source": [
    "<a id='4.3'></a>\n",
    "## 4.3. Compare Models and Algorithms"
   ]
  },
  {
   "cell_type": "markdown",
   "metadata": {},
   "source": [
    "### Classification Models"
   ]
  },
  {
   "cell_type": "code",
   "execution_count": 285,
   "metadata": {
    "_cell_guid": "772802f7-f4e4-84ee-6377-6464ab2e5da4"
   },
   "outputs": [],
   "source": [
    "# spot check the algorithms\n",
    "models = []\n",
    "models.append(('LR', LogisticRegression()))\n",
    "models.append(('LDA', LinearDiscriminantAnalysis()))\n",
    "models.append(('KNN', KNeighborsClassifier()))\n",
    "models.append(('CART', DecisionTreeClassifier()))\n",
    "models.append(('NB', GaussianNB()))\n",
    "#Neural Network\n",
    "models.append(('NN', MLPClassifier()))\n",
    "#Ensable Models \n",
    "# Boosting methods\n",
    "models.append(('AB', AdaBoostClassifier()))\n",
    "models.append(('GBM', GradientBoostingClassifier()))\n",
    "# Bagging methods\n",
    "models.append(('RF', RandomForestClassifier(n_jobs=-1)))"
   ]
  },
  {
   "cell_type": "markdown",
   "metadata": {},
   "source": [
    "### K-folds cross validation"
   ]
  },
  {
   "cell_type": "code",
   "execution_count": 286,
   "metadata": {
    "_cell_guid": "a784ab4a-eb59-98cc-76cf-b55f382d057a"
   },
   "outputs": [
    {
     "name": "stdout",
     "output_type": "stream",
     "text": [
      "LR: 0.703980 (0.007770)\n",
      "LDA: 0.703591 (0.007521)\n",
      "KNN: 0.846317 (0.011164)\n",
      "CART: 0.929543 (0.006309)\n",
      "NB: 0.237749 (0.009657)\n",
      "NN: 0.783250 (0.008020)\n",
      "AB: 0.716036 (0.010712)\n",
      "GBM: 0.770677 (0.010944)\n",
      "RF: 0.949766 (0.005895)\n"
     ]
    }
   ],
   "source": [
    "results = []\n",
    "names = []\n",
    "for name, model in models:\n",
    "    kfold = KFold(n_splits=num_folds, random_state=seed)\n",
    "    cv_results = cross_val_score(model, X_train, Y_train, cv=kfold, scoring=scoring)\n",
    "    results.append(cv_results)\n",
    "    names.append(name)\n",
    "    msg = \"%s: %f (%f)\" % (name, cv_results.mean(), cv_results.std())\n",
    "    print(msg)"
   ]
  },
  {
   "cell_type": "code",
   "execution_count": 50,
   "metadata": {},
   "outputs": [],
   "source": [
    "### Algorithm comparison"
   ]
  },
  {
   "cell_type": "code",
   "execution_count": 287,
   "metadata": {},
   "outputs": [
    {
     "data": {
      "image/png": "[encoded data removed]",
      "text/plain": [
       "<Figure size 1080x576 with 1 Axes>"
      ]
     },
     "metadata": {
      "needs_background": "light"
     },
     "output_type": "display_data"
    }
   ],
   "source": [
    "# compare algorithms\n",
    "fig = pyplot.figure()\n",
    "fig.suptitle('Algorithm Comparison')\n",
    "ax = fig.add_subplot(111)\n",
    "pyplot.boxplot(results)\n",
    "ax.set_xticklabels(names)\n",
    "fig.set_size_inches(15,8)\n",
    "pyplot.show()"
   ]
  },
  {
   "cell_type": "markdown",
   "metadata": {},
   "source": [
    "<a id='5'></a>\n",
    "# 5. Model Tuning and Grid Search"
   ]
  },
  {
   "cell_type": "markdown",
   "metadata": {
    "_cell_guid": "848ca488-b0fd-8e93-2e68-23d32c71d89c"
   },
   "source": [
    "Given that the Random Forest is the best model, Grid Search is performed on Random Forest."
   ]
  },
  {
   "cell_type": "code",
   "execution_count": 288,
   "metadata": {},
   "outputs": [
    {
     "name": "stdout",
     "output_type": "stream",
     "text": [
      "Best: 0.958971 using {'criterion': 'gini', 'max_depth': 100, 'n_estimators': 80}\n",
      "#7 0.713508 (0.008355) with: {'criterion': 'gini', 'max_depth': 5, 'n_estimators': 20}\n",
      "#10 0.709684 (0.007648) with: {'criterion': 'gini', 'max_depth': 5, 'n_estimators': 80}\n",
      "#9 0.710202 (0.007921) with: {'criterion': 'gini', 'max_depth': 5, 'n_estimators': 200}\n",
      "#5 0.955795 (0.003819) with: {'criterion': 'gini', 'max_depth': 100, 'n_estimators': 20}\n",
      "#1 0.958971 (0.004656) with: {'criterion': 'gini', 'max_depth': 100, 'n_estimators': 80}\n",
      "#2 0.958582 (0.005108) with: {'criterion': 'gini', 'max_depth': 100, 'n_estimators': 200}\n",
      "#8 0.711174 (0.009196) with: {'criterion': 'entropy', 'max_depth': 5, 'n_estimators': 20}\n",
      "#11 0.708582 (0.007772) with: {'criterion': 'entropy', 'max_depth': 5, 'n_estimators': 80}\n",
      "#12 0.706961 (0.008451) with: {'criterion': 'entropy', 'max_depth': 5, 'n_estimators': 200}\n",
      "#6 0.954952 (0.005331) with: {'criterion': 'entropy', 'max_depth': 100, 'n_estimators': 20}\n",
      "#4 0.958128 (0.004774) with: {'criterion': 'entropy', 'max_depth': 100, 'n_estimators': 80}\n",
      "#3 0.958517 (0.004835) with: {'criterion': 'entropy', 'max_depth': 100, 'n_estimators': 200}\n"
     ]
    }
   ],
   "source": [
    "# Grid Search: Random Forest Classifier\n",
    "'''\n",
    "n_estimators : int (default=100)\n",
    "    The number of boosting stages to perform. \n",
    "    Gradient boosting is fairly robust to over-fitting so a large number usually results in better performance.\n",
    "max_depth : integer, optional (default=3)\n",
    "    maximum depth of the individual regression estimators. \n",
    "    The maximum depth limits the number of nodes in the tree. \n",
    "    Tune this parameter for best performance; the best value depends on the interaction of the input variables    \n",
    "criterion : string, optional (default=”gini”)\n",
    "    The function to measure the quality of a split. \n",
    "    Supported criteria are “gini” for the Gini impurity and “entropy” for the information gain. \n",
    "    \n",
    "'''   \n",
    "n_estimators = [20,80,200]\n",
    "max_depth= [5,100]\n",
    "criterion = [\"gini\",\"entropy\"]\n",
    "param_grid = dict(n_estimators=n_estimators, max_depth=max_depth, criterion = criterion )\n",
    "model = RandomForestClassifier(n_jobs=-1)\n",
    "kfold = KFold(n_splits=num_folds, random_state=seed)\n",
    "grid = GridSearchCV(estimator=model, param_grid=param_grid, scoring=scoring, cv=kfold)\n",
    "grid_result = grid.fit(X_train, Y_train)\n",
    "\n",
    "#Print Results\n",
    "print(\"Best: %f using %s\" % (grid_result.best_score_, grid_result.best_params_))\n",
    "means = grid_result.cv_results_['mean_test_score']\n",
    "stds = grid_result.cv_results_['std_test_score']\n",
    "params = grid_result.cv_results_['params']\n",
    "ranks = grid_result.cv_results_['rank_test_score']\n",
    "for mean, stdev, param, rank in zip(means, stds, params, ranks):\n",
    "    print(\"#%d %f (%f) with: %r\" % (rank, mean, stdev, param))"
   ]
  },
  {
   "cell_type": "markdown",
   "metadata": {},
   "source": [
    "<a id='6'></a>\n",
    "# 6. Finalise the Model"
   ]
  },
  {
   "cell_type": "markdown",
   "metadata": {},
   "source": [
    "Let us test the model on the test dataset and look at feature importance in this step"
   ]
  },
  {
   "cell_type": "markdown",
   "metadata": {},
   "source": [
    "<a id='6.1'></a>\n",
    "## 6.1. Results on the Test Dataset"
   ]
  },
  {
   "cell_type": "code",
   "execution_count": 21,
   "metadata": {},
   "outputs": [
    {
     "data": {
      "text/plain": [
       "RandomForestClassifier(bootstrap=True, class_weight=None, criterion='gini',\n",
       "                       max_depth=100, max_features='auto', max_leaf_nodes=None,\n",
       "                       min_impurity_decrease=0.0, min_impurity_split=None,\n",
       "                       min_samples_leaf=1, min_samples_split=2,\n",
       "                       min_weight_fraction_leaf=0.0, n_estimators=80, n_jobs=-1,\n",
       "                       oob_score=False, random_state=None, verbose=0,\n",
       "                       warm_start=False)"
      ]
     },
     "execution_count": 21,
     "metadata": {},
     "output_type": "execute_result"
    }
   ],
   "source": [
    "# prepare model\n",
    "model = RandomForestClassifier(criterion='gini', max_depth= 100, n_estimators= 80,n_jobs=-1)\n",
    "model.fit(X_train, Y_train)"
   ]
  },
  {
   "cell_type": "code",
   "execution_count": 22,
   "metadata": {
    "_cell_guid": "f9725666-3c21-69d1-ddf6-45e47d982444"
   },
   "outputs": [
    {
     "name": "stdout",
     "output_type": "stream",
     "text": [
      "0.9585169821104486\n",
      "[[ 442   25    0]\n",
      " [  17 2621   45]\n",
      " [   0   73  634]]\n",
      "              precision    recall  f1-score   support\n",
      "\n",
      "        -1.0       0.96      0.95      0.95       467\n",
      "         0.0       0.96      0.98      0.97      2683\n",
      "         1.0       0.93      0.90      0.91       707\n",
      "\n",
      "    accuracy                           0.96      3857\n",
      "   macro avg       0.95      0.94      0.95      3857\n",
      "weighted avg       0.96      0.96      0.96      3857\n",
      "\n"
     ]
    }
   ],
   "source": [
    "# estimate accuracy on validation set\n",
    "predictions = model.predict(X_validation)\n",
    "print(accuracy_score(Y_validation, predictions))\n",
    "print(confusion_matrix(Y_validation, predictions))\n",
    "print(classification_report(Y_validation, predictions))"
   ]
  },
  {
   "cell_type": "code",
   "execution_count": 23,
   "metadata": {},
   "outputs": [
    {
     "data": {
      "text/plain": [
       "<matplotlib.axes._subplots.AxesSubplot at 0x1da51ec12b0>"
      ]
     },
     "execution_count": 23,
     "metadata": {},
     "output_type": "execute_result"
    },
    {
     "data": {
      "image/png": "[encoded data removed]",
      "text/plain": [
       "<Figure size 432x288 with 2 Axes>"
      ]
     },
     "metadata": {
      "needs_background": "light"
     },
     "output_type": "display_data"
    }
   ],
   "source": [
    "df_cm = pd.DataFrame(confusion_matrix(Y_validation, predictions), columns=np.unique(Y_validation), index = np.unique(Y_validation))\n",
    "df_cm.index.name = 'Actual'\n",
    "df_cm.columns.name = 'Predicted'\n",
    "sns.heatmap(df_cm, cmap=\"Blues\", annot=True,annot_kws={\"size\": 16})# font sizes"
   ]
  },
  {
   "cell_type": "markdown",
   "metadata": {},
   "source": [
    "From the confusion matrix shown above, the random forest algorithm predicts both the classes of 1 and -1 where the investors change the risk aversion quite accurately. The overall accuracy of the test set is above 95%.\n"
   ]
  },
  {
   "cell_type": "markdown",
   "metadata": {},
   "source": [
    "<a id='7'></a>\n",
    "# 7. Feature Importance and Features Intuition"
   ]
  },
  {
   "cell_type": "markdown",
   "metadata": {},
   "source": [
    "<a id='7.1'></a>\n",
    "## 7.1. Feature Importance\n",
    "Looking at the details above Random forest be worthy of further study.\n",
    "Let us look into the Feature Importance of the RF model"
   ]
  },
  {
   "cell_type": "code",
   "execution_count": 156,
   "metadata": {},
   "outputs": [
    {
     "data": {
      "image/png": "[encoded data removed]",
      "text/plain": [
       "<Figure size 432x288 with 1 Axes>"
      ]
     },
     "metadata": {
      "needs_background": "light"
     },
     "output_type": "display_data"
    }
   ],
   "source": [
    "feat_importances = pd.Series(model.feature_importances_, index=X.columns)\n",
    "\n",
    "feat_importances.nlargest(20).plot(kind='barh',color='r' )\n",
    "plt.show()"
   ]
  },
  {
   "cell_type": "markdown",
   "metadata": {},
   "source": [
    "Age, income and net-worth come out to be the three most important factors which is a\n",
    "quite intuitive and meaningful outcome"
   ]
  },
  {
   "cell_type": "markdown",
   "metadata": {},
   "source": [
    "<a id='7.2'></a>\n",
    "## 7.2. Feature Intuition"
   ]
  },
  {
   "cell_type": "markdown",
   "metadata": {},
   "source": [
    "Analysing the important features"
   ]
  },
  {
   "cell_type": "code",
   "execution_count": 138,
   "metadata": {},
   "outputs": [
    {
     "data": {
      "text/plain": [
       "<matplotlib.axes._subplots.AxesSubplot at 0x1da59c98400>"
      ]
     },
     "execution_count": 138,
     "metadata": {},
     "output_type": "execute_result"
    },
    {
     "data": {
      "image/png": "[encoded data removed]",
      "text/plain": [
       "<Figure size 432x288 with 1 Axes>"
      ]
     },
     "metadata": {
      "needs_background": "light"
     },
     "output_type": "display_data"
    }
   ],
   "source": [
    "dataset.groupby('ChangeRiskAversion').mean()[['INCOME07','NFIN07','ASSET07','FIN07']].plot.bar()"
   ]
  },
  {
   "cell_type": "markdown",
   "metadata": {},
   "source": [
    "It is clear from the chart above that the investors who had lower income and asset become more risk averse, and the investors who had higher income had decreased risk aversion."
   ]
  },
  {
   "cell_type": "code",
   "execution_count": 74,
   "metadata": {},
   "outputs": [
    {
     "data": {
      "text/plain": [
       "<matplotlib.axes._subplots.AxesSubplot at 0x1da57b34198>"
      ]
     },
     "execution_count": 74,
     "metadata": {},
     "output_type": "execute_result"
    },
    {
     "data": {
      "image/png": "[encoded data removed]",
      "text/plain": [
       "<Figure size 432x288 with 1 Axes>"
      ]
     },
     "metadata": {
      "needs_background": "light"
     },
     "output_type": "display_data"
    }
   ],
   "source": [
    "charge_off_rates = dataset.groupby('AGE07')['ChangeRiskAversion'].value_counts(normalize=True).loc[:,1]\n",
    "sns.barplot(x=charge_off_rates.index, y=charge_off_rates.values, color='#5975A4', saturation=1)"
   ]
  },
  {
   "cell_type": "code",
   "execution_count": 139,
   "metadata": {},
   "outputs": [
    {
     "data": {
      "text/plain": [
       "<matplotlib.axes._subplots.AxesSubplot at 0x1da59d22e80>"
      ]
     },
     "execution_count": 139,
     "metadata": {},
     "output_type": "execute_result"
    },
    {
     "data": {
      "image/png": "[encoded data removed]",
      "text/plain": [
       "<Figure size 432x288 with 1 Axes>"
      ]
     },
     "metadata": {
      "needs_background": "light"
     },
     "output_type": "display_data"
    }
   ],
   "source": [
    "dataset.groupby('ChangeRiskAversion').mean()[['AGE07']].plot.bar()"
   ]
  },
  {
   "cell_type": "code",
   "execution_count": 155,
   "metadata": {},
   "outputs": [
    {
     "data": {
      "text/plain": [
       "AGECL07\n",
       "1    0.191597\n",
       "2    0.129609\n",
       "3    0.118354\n",
       "4    0.087112\n",
       "5    0.044259\n",
       "6    0.056970\n",
       "Name: ChangeRiskAversion, dtype: float64"
      ]
     },
     "execution_count": 155,
     "metadata": {},
     "output_type": "execute_result"
    }
   ],
   "source": [
    "dataset.groupby('AGECL07')['ChangeRiskAversion'].value_counts(normalize=True).loc[:,-1]"
   ]
  },
  {
   "cell_type": "markdown",
   "metadata": {},
   "source": [
    "The change in risk aversion changes with the age and people and people with relatively younger age change their risk appetite. Also, for the change to -1, people who became more risk takers after crisis period were younger people. "
   ]
  },
  {
   "cell_type": "markdown",
   "metadata": {},
   "source": [
    "__Conclusion__:\n",
    "\n",
    "We demonstrated the fact that machine learning\n",
    "models might be able to objectively analyze the behavior of different investors with\n",
    "the change in market and attribute these changes to variables involved in determining\n",
    "risk appetite.\n",
    "\n",
    "In the data preparation step, we illustrated the importance of\n",
    "data reduction step and demonstrate how can we achieve the feature elimination\n",
    "when there is a large number of features.\n",
    "\n",
    "Finally, we analyzed the feature importance and found that results of the case study\n",
    "are quite meaningful and provided a good insight into the investor behavior with\n",
    "changing market situation. The investors who had lower income and asset become\n",
    "more risk averse, and the investors who had higher income had decreased risk aver‐\n",
    "sion. The change in risk aversion changes with the age and individuals and individu‐\n",
    "als with relatively younger age change their risk appetite. Such feature analysis\n",
    "provides us deeper qualitative insight into a machine learning model.\n",
    "\n",
    "\n"
   ]
  }
 ],
 "metadata": {
  "_change_revision": 206,
  "_is_fork": false,
  "kernelspec": {
   "display_name": "Python 3",
   "language": "python",
   "name": "python3"
  },
  "language_info": {
   "codemirror_mode": {
    "name": "ipython",
    "version": 3
   },
   "file_extension": ".py",
   "mimetype": "text/x-python",
   "name": "python",
   "nbconvert_exporter": "python",
   "pygments_lexer": "ipython3",
   "version": "3.7.3"
  }
 },
 "nbformat": 4,
 "nbformat_minor": 1
}
